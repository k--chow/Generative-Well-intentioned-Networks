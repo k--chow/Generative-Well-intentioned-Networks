{
 "cells": [
  {
   "cell_type": "code",
   "execution_count": 1,
   "metadata": {},
   "outputs": [],
   "source": [
    "%matplotlib inline"
   ]
  },
  {
   "cell_type": "code",
   "execution_count": 2,
   "metadata": {},
   "outputs": [],
   "source": [
    "from __future__ import print_function, division\n",
    "\n",
    "\n",
    "\n",
    "import tensorflow.compat.v2 as tf\n",
    "import tensorflow_probability as tfp\n",
    "import tensorflow_datasets as tfds\n",
    "import numpy as np\n",
    "\n",
    "import os\n",
    "import warnings\n",
    "\n",
    "# Dependency imports\n",
    "from absl import app\n",
    "from absl import flags\n",
    "import matplotlib\n",
    "matplotlib.use('Agg')\n",
    "from matplotlib import figure  # pylint: disable=g-import-not-at-top\n",
    "from matplotlib.backends import backend_agg\n",
    "\n",
    "\n",
    "\n",
    "from tensorflow.keras.datasets import mnist\n",
    "from tensorflow.keras.layers import Input, Dense, Reshape, Flatten, Dropout,Layer\n",
    "from tensorflow.keras.layers import Lambda, Concatenate, BatchNormalization, Activation, ZeroPadding2D,LeakyReLU,UpSampling2D, Conv2D,Add, LayerNormalization\n",
    "from tensorflow.keras.layers import Cropping2D, Conv2DTranspose\n",
    "from tensorflow.keras.models import Sequential, Model\n",
    "from tensorflow.keras.optimizers import RMSprop\n",
    "from functools import partial\n",
    "\n",
    "import tensorflow.keras.backend as K\n",
    "\n",
    "import matplotlib.pyplot as plt\n",
    "\n",
    "import sys\n",
    "\n",
    "from random import choice\n",
    "\n",
    "import pdb\n",
    "\n"
   ]
  },
  {
   "cell_type": "code",
   "execution_count": 3,
   "metadata": {},
   "outputs": [],
   "source": [
    "from tensorflow.compat.v1 import ConfigProto\n",
    "from tensorflow.compat.v1 import InteractiveSession\n",
    "\n",
    "config = ConfigProto()\n",
    "config.gpu_options.allow_growth = True\n",
    "session = InteractiveSession(config=config)"
   ]
  },
  {
   "cell_type": "code",
   "execution_count": 4,
   "metadata": {},
   "outputs": [],
   "source": [
    "tf.enable_v2_behavior()\n"
   ]
  },
  {
   "cell_type": "markdown",
   "metadata": {},
   "source": [
    "## This code restricts GPU usage"
   ]
  },
  {
   "cell_type": "code",
   "execution_count": 5,
   "metadata": {},
   "outputs": [
    {
     "name": "stdout",
     "output_type": "stream",
     "text": [
      "1 Physical GPUs, 1 Logical GPUs\n"
     ]
    }
   ],
   "source": [
    "\n",
    "gpus = tf.config.experimental.list_physical_devices('GPU')\n",
    "\n",
    "\n",
    "if gpus:\n",
    "    # Restrict TensorFlow to only allocate 1GB * 2 of memory on the first GPU\n",
    "    try:\n",
    "        tf.config.experimental.set_virtual_device_configuration(\n",
    "            gpus[0],\n",
    "            [tf.config.experimental.VirtualDeviceConfiguration(memory_limit=1024 * 7)])\n",
    "        logical_gpus = tf.config.experimental.list_logical_devices('GPU')\n",
    "        print(len(gpus), \"Physical GPUs,\", len(logical_gpus), \"Logical GPUs\")\n",
    "    except RuntimeError as e:\n",
    "        # Virtual devices must be set before GPUs have been initialized\n",
    "        print(e)\n"
   ]
  },
  {
   "cell_type": "code",
   "execution_count": 6,
   "metadata": {},
   "outputs": [],
   "source": [
    "bs=128\n",
    "class RandomWeightedAverage(Add):\n",
    "    \"\"\"Provides a (random) weighted average between real and generated image samples\"\"\"\n",
    "    def _merge_function(self, inputs):\n",
    "        alpha = K.random_uniform((bs, 1, 1, 1))\n",
    "        return (alpha * inputs[0]) + ((1 - alpha) * inputs[1])"
   ]
  },
  {
   "cell_type": "code",
   "execution_count": 7,
   "metadata": {},
   "outputs": [],
   "source": [
    "tfd = tfp.distributions\n",
    "\n",
    "IMAGE_SHAPE = [28, 28, 1]\n",
    "NUM_TRAIN_EXAMPLES = 60000\n",
    "NUM_HELDOUT_EXAMPLES = 10000\n",
    "NUM_CLASSES = 10"
   ]
  },
  {
   "cell_type": "code",
   "execution_count": 8,
   "metadata": {},
   "outputs": [],
   "source": [
    "class MNISTSequence(tf.keras.utils.Sequence):\n",
    "  \"\"\"Produces a sequence of MNIST digits with labels.\"\"\"\n",
    "\n",
    "  def __init__(self, data=None, batch_size=128, fake_data_size=None):\n",
    "    \"\"\"Initializes the sequence.\n",
    "\n",
    "    Args:\n",
    "      data: Tuple of numpy `array` instances, the first representing images and\n",
    "            the second labels.\n",
    "      batch_size: Integer, number of elements in each training batch.\n",
    "      fake_data_size: Optional integer number of fake datapoints to generate.\n",
    "    \"\"\"\n",
    "    if data:\n",
    "      images, labels = data\n",
    "    else:\n",
    "      images, labels = MNISTSequence.__generate_fake_data(\n",
    "          num_images=fake_data_size, num_classes=NUM_CLASSES)\n",
    "    self.images, self.labels = MNISTSequence.__preprocessing(\n",
    "        images, labels)\n",
    "    self.batch_size = batch_size\n",
    "\n",
    "  @staticmethod\n",
    "  def __generate_fake_data(num_images, num_classes):\n",
    "    \"\"\"Generates fake data in the shape of the MNIST dataset for unittest.\n",
    "\n",
    "    Args:\n",
    "      num_images: Integer, the number of fake images to be generated.\n",
    "      num_classes: Integer, the number of classes to be generate.\n",
    "    Returns:\n",
    "      images: Numpy `array` representing the fake image data. The\n",
    "              shape of the array will be (num_images, 28, 28).\n",
    "      labels: Numpy `array` of integers, where each entry will be\n",
    "              assigned a unique integer.\n",
    "    \"\"\"\n",
    "    images = np.random.randint(low=0, high=256,\n",
    "                               size=(num_images, IMAGE_SHAPE[0],\n",
    "                                     IMAGE_SHAPE[1]))\n",
    "    labels = np.random.randint(low=0, high=num_classes,\n",
    "                               size=num_images)\n",
    "    return images, labels\n",
    "\n",
    "  @staticmethod\n",
    "  def __preprocessing(images, labels):\n",
    "    \"\"\"Preprocesses image and labels data.\n",
    "\n",
    "    Args:\n",
    "      images: Numpy `array` representing the image data.\n",
    "      labels: Numpy `array` representing the labels data (range 0-9).\n",
    "\n",
    "    Returns:\n",
    "      images: Numpy `array` representing the image data, normalized\n",
    "              and expanded for convolutional network input.\n",
    "      labels: Numpy `array` representing the labels data (range 0-9),\n",
    "              as one-hot (categorical) values.\n",
    "    \"\"\"\n",
    "    #images = 2 * (images / 255.) - 1.\n",
    "    images = images[..., tf.newaxis]\n",
    "\n",
    "    labels = tf.keras.utils.to_categorical(labels)\n",
    "    return images, labels\n",
    "\n",
    "  def __len__(self):\n",
    "    return int(tf.math.ceil(len(self.images) / self.batch_size))\n",
    "\n",
    "  def __getitem__(self, idx):\n",
    "    batch_x = self.images[idx * self.batch_size: (idx + 1) * self.batch_size]\n",
    "    batch_y = self.labels[idx * self.batch_size:(idx + 1) * self.batch_size]\n",
    "    return batch_x, batch_y\n"
   ]
  },
  {
   "cell_type": "code",
   "execution_count": 9,
   "metadata": {},
   "outputs": [],
   "source": [
    "\n",
    "class GWINGP():\n",
    "    def __init__(self):\n",
    "        self.img_rows = 28\n",
    "        self.img_cols = 28\n",
    "        self.channels = 1\n",
    "        self.classes = 10\n",
    "        self.img_shape = (self.img_rows, self.img_cols, self.channels)\n",
    "        self.img_total = self.img_rows*self.img_cols*self.channels\n",
    "        self.latent_dim = 100\n",
    "        self.batch_size = 128\n",
    "        # Following parameter and optimizer set as recommended in paper\n",
    "        self.n_critic = 5\n",
    "        optimizer = tf.keras.optimizers.Adam(lr=0.0001, beta_1=0.5, beta_2=0.9)\n",
    "        optimizer2 = tf.keras.optimizers.Adam(lr=0.0001, beta_1=0.5, beta_2=0.9)\n",
    "        # Build the generator and critic\n",
    "\n",
    "        self.classifier = self.build_classifier()\n",
    "        \n",
    "        # Construct graph for classifier\n",
    "        img = Input(shape=self.img_shape)\n",
    "        classification = self.classifier(img)\n",
    "        self.classifier_model = Model(img, classification, name=\"classifier_model\") # input/output\n",
    "        \n",
    "        classifier_optimizer = tf.keras.optimizers.Adam(lr=0.001)\n",
    "        self.classifier_model.compile(optimizer=classifier_optimizer, loss='categorical_crossentropy',\n",
    "                metrics=['accuracy'], experimental_run_tf_function=False)\n",
    "        # we pass in y on our own. y_true i mean.\n",
    "        self.classifier_model.summary()\n",
    "        \n",
    "        \n",
    "        #-------------------------------\n",
    "        # Construct Computational Graph\n",
    "        #         for Generator\n",
    "        #-------------------------------\n",
    "\n",
    "        # For the generator we freeze the critic's layers\n",
    "        #self.critic.trainable = False\n",
    "        #self.generator.trainable = True\n",
    "        #self.classifier.trainable = False\n",
    "        \n",
    "        self.generator = self.build_generator()\n",
    "        self.critic = self.build_critic2()\n",
    "        \n",
    "        for layer in self.classifier.layers:\n",
    "            layer.trainable = False\n",
    "        for layer in self.critic.layers:\n",
    "            layer.trainable = False\n",
    "        for layer in self.generator.layers:\n",
    "            layer.trainable = True\n",
    "        \n",
    "        # Sampled noise for input to generator\n",
    "        z_gen = Input(shape=(self.latent_dim,))\n",
    "        real_img = Input(shape=self.img_shape)\n",
    "        og_img = K.reshape(real_img, shape=(-1, self.img_total))\n",
    "        label = Input(shape=(self.classes,))\n",
    "        # Generate images based of noise\n",
    "        # this is functional\n",
    "        # also get your img.\n",
    "        concat = K.concatenate([z_gen, og_img])\n",
    "        img = self.generator(concat)\n",
    "        # Discriminator determines validity\n",
    "        valid = self.critic((img, label))\n",
    "        classify = self.classifier(img)\n",
    "        # Defines generator model\n",
    "        self.generator_model = Model(inputs=[z_gen, real_img, label], outputs=[valid, classify], name=\"generator_model\")\n",
    "        # where even is the y_true happening? for our loss functions\n",
    "        self.generator_model.compile(loss=[self.wasserstein_loss, \n",
    "                                            self.transformation_penalty_loss], \n",
    "                                     optimizer=optimizer,\n",
    "                                     loss_weights=[1, 10])\n",
    "        self.generator_model.summary()\n",
    "        \n",
    "        #-------------------------------\n",
    "        # Construct Computational Graph\n",
    "        #       for the Critic\n",
    "        #-------------------------------\n",
    "        \n",
    "        #self.critic.trainable = True\n",
    "        #self.generator.trainable = False\n",
    "        #self.classifier.trainable = False\n",
    "        \n",
    "                \n",
    "        for layer in self.critic.layers:\n",
    "            layer.trainable = True\n",
    "            \n",
    "        for layer in self.generator.layers:\n",
    "            layer.trainable = False\n",
    "            \n",
    "\n",
    "        # also want class here\n",
    "        \n",
    "        # Image input (real sample)\n",
    "        real_img = Input(shape=self.img_shape)\n",
    "        og_img = K.reshape(real_img, shape=(-1, self.img_total))\n",
    "        \n",
    "        \n",
    "        # -1 means ALL in a shape \n",
    " \n",
    "        # Noise input\n",
    "        z_disc = Input(shape=(self.latent_dim,))\n",
    "        concat = K.concatenate([z_disc, og_img])\n",
    "        # Generate image based of noise (fake sample)\n",
    "        label = Input(shape=(self.classes,))\n",
    "        # Generate images based of noise\n",
    "        # this is functional\n",
    "        # also get your img.\n",
    "        \n",
    "        fake_img = self.generator(concat)\n",
    "#        pdb.set_trace()\n",
    "        # Discriminator determines validity of the real and fake images\n",
    "        fake = self.critic((fake_img, label))\n",
    "        valid = self.critic((real_img, label))\n",
    "\n",
    "        # Construct weighted average between real and fake images\n",
    "        interpolated_img = RandomWeightedAverage()([real_img, fake_img])\n",
    "        # Determine validity of weighted sample\n",
    "        validity_interpolated = self.critic((interpolated_img, label))\n",
    "\n",
    "        # Use Python partial to provide loss function with additional\n",
    "        # 'averaged_samples' argument\n",
    "        self.partial_gp_loss = partial(self.gradient_penalty_loss,\n",
    "                          averaged_samples=interpolated_img)\n",
    "        self.partial_gp_loss.__name__ = 'gradient_penalty' # Keras requires function names\n",
    "\n",
    "        self.critic_model = Model(inputs=[real_img, z_disc, label],\n",
    "                            outputs=[valid, fake, validity_interpolated], name=\"critic_model\")\n",
    "        self.critic_model.compile(loss=[self.wasserstein_loss,\n",
    "                                              self.wasserstein_loss,\n",
    "                                              self.partial_gp_loss],\n",
    "                                        optimizer=optimizer,\n",
    "                                        loss_weights=[1, 1, 10])\n",
    "        self.critic_model.summary()\n",
    "\n",
    "        \n",
    "        \n",
    "    def transformation_penalty_loss(self, y_true, y_pred):\n",
    "        return K.categorical_crossentropy(y_true, y_pred)\n",
    "\n",
    "    def gradient_penalty_loss(self, y_true, y_pred, averaged_samples):\n",
    "        \"\"\"\n",
    "        Computes gradient penalty based on prediction and weighted real / fake samples\n",
    "        \"\"\"\n",
    "        gradients = K.gradients(y_pred, averaged_samples)[0]\n",
    "        # compute the euclidean norm by squaring ...\n",
    "        try:\n",
    "          gradients_sqr = K.square(gradients)\n",
    "        except ValueError:\n",
    "          print(\"Error\")\n",
    "          return 0\n",
    "        #   ... summing over the rows ...\n",
    "        gradients_sqr_sum = K.sum(gradients_sqr,\n",
    "                                  axis=np.arange(1, len(gradients_sqr.shape)))\n",
    "        #   ... and sqrt\n",
    "        gradient_l2_norm = K.sqrt(gradients_sqr_sum)\n",
    "        # compute lambda * (1 - ||grad||)^2 still for each single sample\n",
    "        gradient_penalty = K.square(1 - gradient_l2_norm)\n",
    "        # return the mean as loss over all the batch samples\n",
    "        return K.mean(gradient_penalty)\n",
    "\n",
    "    def wasserstein_loss(self, y_true, y_pred):\n",
    "        return K.mean(y_true * y_pred)\n",
    "    \n",
    "    def build_classifier(self):\n",
    "        kl_divergence_function = (lambda q, p, _: tfd.kl_divergence(q, p) /  # pylint: disable=g-long-lambda\n",
    "                            tf.cast(NUM_TRAIN_EXAMPLES, dtype=tf.float32))\n",
    "        model = tf.keras.models.Sequential([\n",
    "          tfp.layers.Convolution2DFlipout(\n",
    "              6, kernel_size=5, padding='SAME',\n",
    "              kernel_divergence_fn=kl_divergence_function,\n",
    "              activation=tf.nn.relu),\n",
    "          tf.keras.layers.MaxPooling2D(\n",
    "              pool_size=[2, 2], strides=[2, 2],\n",
    "              padding='SAME'),\n",
    "          tfp.layers.Convolution2DFlipout(\n",
    "              16, kernel_size=5, padding='SAME',\n",
    "              kernel_divergence_fn=kl_divergence_function,\n",
    "              activation=tf.nn.relu),\n",
    "          tf.keras.layers.MaxPooling2D(\n",
    "              pool_size=[2, 2], strides=[2, 2],\n",
    "              padding='SAME'),\n",
    "          tfp.layers.Convolution2DFlipout(\n",
    "              120, kernel_size=5, padding='SAME',\n",
    "              kernel_divergence_fn=kl_divergence_function,\n",
    "              activation=tf.nn.relu),\n",
    "          tf.keras.layers.Flatten(),\n",
    "          tfp.layers.DenseFlipout(\n",
    "              84, kernel_divergence_fn=kl_divergence_function,\n",
    "              activation=tf.nn.relu),\n",
    "          tfp.layers.DenseFlipout(\n",
    "              NUM_CLASSES, kernel_divergence_fn=kl_divergence_function,\n",
    "              activation=tf.nn.softmax)\n",
    "      ])\n",
    "        #model.build()\n",
    "        #model.summary()\n",
    "        img = Input(shape=self.img_shape)\n",
    "        classification = model(img)\n",
    "        return Model(img, classification, name=\"classifier\")\n",
    "    # Do we ned to remove norm \n",
    "    def build_generator(self):\n",
    "\n",
    "        model = Sequential()\n",
    "        model.add(Dense(4*4*256, activation=\"relu\", input_dim=self.latent_dim + self.img_total))\n",
    "        model.add(Reshape((4, 4, 256)))\n",
    "        model.add(Conv2DTranspose(128, kernel_size=5, strides=2, padding=\"same\"))\n",
    "        #model.add(UpSampling2D(4))\n",
    "        #model.add(Conv2D(128, kernel_size=5, strides=2, padding=\"same\"))\n",
    "        model.add(BatchNormalization(momentum=0.8))\n",
    "        model.add(Activation(\"relu\"))\n",
    "        model.add(Cropping2D(cropping=((0, 1), (0, 1))))\n",
    "        \n",
    "        model.add(Conv2DTranspose(64, kernel_size=5, strides=2, padding=\"same\"))\n",
    "        #model.add(UpSampling2D(4))\n",
    "        #model.add(Conv2D(64, kernel_size=5, strides=2, padding=\"same\"))\n",
    "        model.add(BatchNormalization(momentum=0.8))\n",
    "        model.add(Activation(\"relu\"))\n",
    "        \n",
    "        model.add(Conv2DTranspose(self.channels, kernel_size=5, strides=2, padding=\"same\"))\n",
    "        #model.add(UpSampling2D(4))\n",
    "        #model.add(Conv2D(self.channels, kernel_size=5, strides=2, padding=\"same\"))\n",
    "        model.add(Activation(\"tanh\"))\n",
    "\n",
    "        model.summary()\n",
    "\n",
    "        concat = Input(shape=(self.latent_dim + self.img_total,))\n",
    "        img = model(concat)\n",
    "\n",
    "        return Model(concat, img, name=\"generator\")\n",
    "\n",
    "    \n",
    "    def build_critic2(self):\n",
    "        img = Input(shape=self.img_shape)\n",
    "        label = Input(shape=(self.classes,))\n",
    "        label_reshaped = K.reshape(label, shape=(-1, 1, 1, self.classes))\n",
    "        \n",
    "        #tiled = K.tile(a, [4, 4, 1])\n",
    "        tiled = K.tile(label_reshaped, [1, 28, 28, 1])\n",
    "        concat = K.concatenate([img, tiled], axis=3)\n",
    "        \n",
    "        \n",
    "        x = Conv2D(64, kernel_size=5, strides=2, padding=\"same\")(concat)\n",
    "        x = LayerNormalization(epsilon = 1e-6)(x)\n",
    "        x = LeakyReLU(alpha=0.2)(x)\n",
    "        \n",
    "        tiled = K.tile(label_reshaped, [1, 14, 14, 1])\n",
    "        concat = K.concatenate([x, tiled], axis=3)\n",
    "        \n",
    "        x = Conv2D(128, kernel_size=5, strides=2, padding=\"same\")(concat)\n",
    "        x = LayerNormalization(epsilon = 1e-6)(x)\n",
    "        x = LeakyReLU(alpha=0.2)(x)\n",
    "        \n",
    "        tiled = K.tile(label_reshaped, [1, 7, 7, 1])\n",
    "        concat = K.concatenate([x, tiled], axis=3)\n",
    "        \n",
    "        x = Conv2D(256, kernel_size=5, strides=2, padding=\"same\")(concat)\n",
    "        x = LayerNormalization(epsilon = 1e-6)(x)\n",
    "        x = LeakyReLU(alpha=0.2)(x)\n",
    "        \n",
    "        tiled = K.tile(label_reshaped, [1, 4, 4, 1])\n",
    "        concat = K.concatenate([x, tiled], axis=3)\n",
    "        \n",
    "\n",
    "        x = Flatten()(concat)\n",
    "        \n",
    "        validity = Dense(1)(x)\n",
    "        #pdb.set_trace()\n",
    "        return Model(inputs=[img, label], outputs=[validity], name=\"critic\")\n",
    "    \n",
    "    def train_classifier(self, epochs, batch_size, dataset):\n",
    "        \n",
    "        train_X, train_y = dataset\n",
    "        \n",
    "        #train_X = (train_X.astype(np.float32) - 127.5) / 127.5\n",
    "        \n",
    "        train_set = (train_X, train_y)\n",
    "        train_seq = MNISTSequence(data=train_set, batch_size=batch_size)\n",
    "\n",
    "        \n",
    "        for epoch in range(epochs):\n",
    "            epoch_accuracy, epoch_loss = [], []\n",
    "        \n",
    "            for step, (batch_x, batch_y) in enumerate(train_seq):\n",
    "                batch_loss, batch_accuracy = self.classifier_model.train_on_batch(batch_x, batch_y)\n",
    "                epoch_loss.append(batch_loss)\n",
    "                epoch_accuracy.append(batch_accuracy)\n",
    "            print(\"Epoch\", epoch, \"Accuracy\", np.average(epoch_accuracy), \"Loss\", np.average(epoch_loss)) \n",
    "\n",
    "    def train(self, epochs, batch_size, full_data, confident_data, sample_interval=50):\n",
    "\n",
    "        # Load the dataset\n",
    "        (X_train, y_train) = full_data\n",
    "        (confident_X_train, confident_y_train) = confident_data\n",
    "\n",
    "        # Rescale -1 to 1\n",
    "        #X_train = (X_train.astype(np.float32) - 127.5) / 127.5\n",
    "        X_train = np.expand_dims(X_train, axis=3)\n",
    "        \n",
    "        #confident_X_train = (confident_X_train.astype(np.float32) - 127.5) / 127.5\n",
    "        confident_X_train = np.expand_dims(confident_X_train, axis=3)\n",
    "\n",
    "        # Adversarial ground truths\n",
    "        valid = -np.ones((batch_size, 1))\n",
    "        fake =  np.ones((batch_size, 1))\n",
    "        dummy = np.zeros((batch_size, 1)) # Dummy gt for gradient penalty\n",
    "        \n",
    "        for epoch in range(epochs):\n",
    "            self.critic.trainable = True\n",
    "            self.generator.trainable= False\n",
    "            self.classifier.trainable = False\n",
    "            \"\"\"\n",
    "            model = self.generator_model\n",
    "            trainable_count = np.sum([K.count_params(w) for w in model.trainable_weights])\n",
    "            not_trainable_count = np.sum([K.count_params(w) for w in model.non_trainable_weights])\n",
    "            print(trainable_count, not_trainable_count)\n",
    "            model = self.critic_model\n",
    "            trainable_count = np.sum([K.count_params(w) for w in model.trainable_weights])\n",
    "            not_trainable_count = np.sum([K.count_params(w) for w in model.non_trainable_weights])\n",
    "            print(trainable_count, not_trainable_count)\n",
    "            \"\"\"\n",
    "            for _ in range(self.n_critic):\n",
    "                \n",
    "                # ---------------------\n",
    "                #  Train Discriminator\n",
    "                # ---------------------\n",
    "                # only train on confident images! \n",
    "                # One-hot encode the guys\n",
    "                # Select a random batch of images\n",
    "                idx = np.random.randint(0, confident_X_train.shape[0], batch_size)\n",
    "                imgs = confident_X_train[idx]\n",
    "                labels = confident_y_train[idx]\n",
    "                one_hot_labels = tf.keras.utils.to_categorical(labels)\n",
    "                #labels = np.expand_dims(labels, axis=2)\n",
    "                \n",
    "                # random batch rather than going line by ine? \n",
    "                # Sample generator input\n",
    "                noise = np.random.normal(0, 1, (batch_size, self.latent_dim))\n",
    "                #pdb.set_trace()\n",
    "                # Train the critic\n",
    "                \n",
    "                \n",
    "                \n",
    "                d_loss = self.critic_model.train_on_batch([imgs, noise, one_hot_labels],\n",
    "                                                                [valid, fake, dummy])\n",
    "                \n",
    "\n",
    "            # ---------------------\n",
    "            #  Train Generator\n",
    "            # ---------------------\n",
    "            # train on all images \n",
    "            self.critic.trainable = False\n",
    "            self.generator.trainable = True\n",
    "            self.classifier.trainable = False\n",
    "            \"\"\"\n",
    "            model = self.generator_model\n",
    "            trainable_count = np.sum([K.count_params(w) for w in model.trainable_weights])\n",
    "            not_trainable_count = np.sum([K.count_params(w) for w in model.non_trainable_weights])\n",
    "            print(trainable_count, not_trainable_count)\n",
    "            model = self.critic_model\n",
    "            trainable_count = np.sum([K.count_params(w) for w in model.trainable_weights])\n",
    "            not_trainable_count = np.sum([K.count_params(w) for w in model.non_trainable_weights])\n",
    "            print(trainable_count, not_trainable_count)\n",
    "            \"\"\"\n",
    "            \n",
    "            idx = np.random.randint(0, X_train.shape[0], batch_size)\n",
    "            imgs = X_train[idx]\n",
    "            labels = y_train[idx]\n",
    "            one_hot_labels = tf.keras.utils.to_categorical(labels)\n",
    "            \n",
    "            noise = np.random.normal(0, 1, (batch_size, self.latent_dim))\n",
    "            \n",
    "            \n",
    "            \n",
    "            g_loss = self.generator_model.train_on_batch([noise,imgs,one_hot_labels], [valid, one_hot_labels])\n",
    "            \n",
    "            # Plot the progress\n",
    "            print (\"%d [D loss: %f] [G loss: %f % f]\" % (epoch, d_loss[0], g_loss[0], g_loss[1]))\n",
    "\n",
    "            # If at save interval => save generated image samples\n",
    "            if epoch % sample_interval == 0:\n",
    "                img = imgs[:25]\n",
    "                self.sample_images(epoch, img)\n",
    "                \n",
    "            # save model at interval\n",
    "            \n",
    "            if epoch % 10000 == 0:\n",
    "                self.critic_model.save('critic_model_2_' + str(epoch))\n",
    "                self.generator_model.save('generator_model_2_' + str(epoch))\n",
    "\n",
    "                \n",
    "\n",
    "    def sample_images(self, epoch, img):\n",
    "        r, c = 5, 5\n",
    "        noise = np.random.normal(0, 1, (r * c, self.latent_dim))\n",
    "        og_img = K.reshape(img, shape=(-1, self.img_total))\n",
    "        #pdb.set_trace()\n",
    "        concat = K.concatenate([noise, og_img], axis=1)\n",
    "        gen_imgs = self.generator.predict(concat)\n",
    "        \n",
    "        \n",
    "\n",
    "        # Rescale images 0 - 1\n",
    "        gen_imgs = 0.5 * gen_imgs + 0.5\n",
    "        \n",
    "        fig, axs = plt.subplots(r, c)\n",
    "        cnt = 0\n",
    "        for i in range(r):\n",
    "            for j in range(c):\n",
    "                axs[i,j].imshow(gen_imgs[cnt, :,:,0], cmap='gray')\n",
    "                axs[i,j].axis('off')\n",
    "                cnt += 1\n",
    "        fig.savefig(\"images/mnist_%d.png\" % epoch)\n",
    "        plt.close()"
   ]
  },
  {
   "cell_type": "code",
   "execution_count": 10,
   "metadata": {},
   "outputs": [
    {
     "name": "stdout",
     "output_type": "stream",
     "text": [
      "WARNING:tensorflow:From /home/kchow/anaconda3/lib/python3.7/site-packages/tensorflow_probability/python/layers/util.py:106: Layer.add_variable (from tensorflow.python.keras.engine.base_layer) is deprecated and will be removed in a future version.\n",
      "Instructions for updating:\n",
      "Please use `layer.add_weight` method instead.\n",
      "Model: \"classifier_model\"\n",
      "_________________________________________________________________\n",
      "Layer (type)                 Output Shape              Param #   \n",
      "=================================================================\n",
      "input_2 (InputLayer)         [(None, 28, 28, 1)]       0         \n",
      "_________________________________________________________________\n",
      "classifier (Model)           (None, 10)                1090856   \n",
      "=================================================================\n",
      "Total params: 1,090,856\n",
      "Trainable params: 1,090,856\n",
      "Non-trainable params: 0\n",
      "_________________________________________________________________\n",
      "Model: \"sequential_1\"\n",
      "_________________________________________________________________\n",
      "Layer (type)                 Output Shape              Param #   \n",
      "=================================================================\n",
      "dense (Dense)                (None, 4096)              3624960   \n",
      "_________________________________________________________________\n",
      "reshape (Reshape)            (None, 4, 4, 256)         0         \n",
      "_________________________________________________________________\n",
      "conv2d_transpose (Conv2DTran (None, 8, 8, 128)         819328    \n",
      "_________________________________________________________________\n",
      "batch_normalization (BatchNo (None, 8, 8, 128)         512       \n",
      "_________________________________________________________________\n",
      "activation (Activation)      (None, 8, 8, 128)         0         \n",
      "_________________________________________________________________\n",
      "cropping2d (Cropping2D)      (None, 7, 7, 128)         0         \n",
      "_________________________________________________________________\n",
      "conv2d_transpose_1 (Conv2DTr (None, 14, 14, 64)        204864    \n",
      "_________________________________________________________________\n",
      "batch_normalization_1 (Batch (None, 14, 14, 64)        256       \n",
      "_________________________________________________________________\n",
      "activation_1 (Activation)    (None, 14, 14, 64)        0         \n",
      "_________________________________________________________________\n",
      "conv2d_transpose_2 (Conv2DTr (None, 28, 28, 1)         1601      \n",
      "_________________________________________________________________\n",
      "activation_2 (Activation)    (None, 28, 28, 1)         0         \n",
      "=================================================================\n",
      "Total params: 4,651,521\n",
      "Trainable params: 4,651,137\n",
      "Non-trainable params: 384\n",
      "_________________________________________________________________\n",
      "Model: \"generator_model\"\n",
      "__________________________________________________________________________________________________\n",
      "Layer (type)                    Output Shape         Param #     Connected to                     \n",
      "==================================================================================================\n",
      "input_7 (InputLayer)            [(None, 28, 28, 1)]  0                                            \n",
      "__________________________________________________________________________________________________\n",
      "input_6 (InputLayer)            [(None, 100)]        0                                            \n",
      "__________________________________________________________________________________________________\n",
      "tf_op_layer_Reshape_2 (TensorFl [(None, 784)]        0           input_7[0][0]                    \n",
      "__________________________________________________________________________________________________\n",
      "tf_op_layer_concat_4 (TensorFlo [(None, 884)]        0           input_6[0][0]                    \n",
      "                                                                 tf_op_layer_Reshape_2[0][0]      \n",
      "__________________________________________________________________________________________________\n",
      "generator (Model)               (None, 28, 28, 1)    4651521     tf_op_layer_concat_4[0][0]       \n",
      "__________________________________________________________________________________________________\n",
      "input_8 (InputLayer)            [(None, 10)]         0                                            \n",
      "__________________________________________________________________________________________________\n",
      "critic (Model)                  (None, 1)            1143201     generator[1][0]                  \n",
      "                                                                 input_8[0][0]                    \n",
      "__________________________________________________________________________________________________\n",
      "classifier (Model)              (None, 10)           1090856     generator[1][0]                  \n",
      "==================================================================================================\n",
      "Total params: 6,885,578\n",
      "Trainable params: 4,651,137\n",
      "Non-trainable params: 2,234,441\n",
      "__________________________________________________________________________________________________\n",
      "Model: \"critic_model\"\n",
      "__________________________________________________________________________________________________\n",
      "Layer (type)                    Output Shape         Param #     Connected to                     \n",
      "==================================================================================================\n",
      "input_9 (InputLayer)            [(None, 28, 28, 1)]  0                                            \n",
      "__________________________________________________________________________________________________\n",
      "input_10 (InputLayer)           [(None, 100)]        0                                            \n",
      "__________________________________________________________________________________________________\n",
      "tf_op_layer_Reshape_3 (TensorFl [(None, 784)]        0           input_9[0][0]                    \n",
      "__________________________________________________________________________________________________\n",
      "tf_op_layer_concat_5 (TensorFlo [(None, 884)]        0           input_10[0][0]                   \n",
      "                                                                 tf_op_layer_Reshape_3[0][0]      \n",
      "__________________________________________________________________________________________________\n",
      "generator (Model)               (None, 28, 28, 1)    4651521     tf_op_layer_concat_5[0][0]       \n",
      "__________________________________________________________________________________________________\n",
      "input_11 (InputLayer)           [(None, 10)]         0                                            \n",
      "__________________________________________________________________________________________________\n",
      "random_weighted_average (Random (128, 28, 28, 1)     0           input_9[0][0]                    \n",
      "                                                                 generator[2][0]                  \n",
      "__________________________________________________________________________________________________\n",
      "critic (Model)                  multiple             1143201     generator[2][0]                  \n",
      "                                                                 input_11[0][0]                   \n",
      "                                                                 input_9[0][0]                    \n",
      "                                                                 input_11[0][0]                   \n",
      "                                                                 random_weighted_average[0][0]    \n",
      "                                                                 input_11[0][0]                   \n",
      "==================================================================================================\n",
      "Total params: 5,794,722\n",
      "Trainable params: 1,143,201\n",
      "Non-trainable params: 4,651,521\n",
      "__________________________________________________________________________________________________\n"
     ]
    }
   ],
   "source": [
    "gwin = GWINGP()"
   ]
  },
  {
   "cell_type": "code",
   "execution_count": 11,
   "metadata": {},
   "outputs": [],
   "source": [
    "# if load model\n",
    "gwin.classifier_model = tf.keras.models.load_model('classifier_model4')"
   ]
  },
  {
   "cell_type": "markdown",
   "metadata": {},
   "source": [
    "## Confirm trainable params matches and layers are frozen"
   ]
  },
  {
   "cell_type": "code",
   "execution_count": 38,
   "metadata": {},
   "outputs": [
    {
     "name": "stdout",
     "output_type": "stream",
     "text": [
      "4651137 2234441\n",
      "Model: \"generator_model\"\n",
      "__________________________________________________________________________________________________\n",
      "Layer (type)                    Output Shape         Param #     Connected to                     \n",
      "==================================================================================================\n",
      "input_29 (InputLayer)           [(None, 28, 28, 1)]  0                                            \n",
      "__________________________________________________________________________________________________\n",
      "input_28 (InputLayer)           [(None, 100)]        0                                            \n",
      "__________________________________________________________________________________________________\n",
      "tf_op_layer_Reshape_8 (TensorFl [(None, 784)]        0           input_29[0][0]                   \n",
      "__________________________________________________________________________________________________\n",
      "tf_op_layer_concat_16 (TensorFl [(None, 884)]        0           input_28[0][0]                   \n",
      "                                                                 tf_op_layer_Reshape_8[0][0]      \n",
      "__________________________________________________________________________________________________\n",
      "generator (Model)               (None, 28, 28, 1)    4651521     tf_op_layer_concat_16[0][0]      \n",
      "__________________________________________________________________________________________________\n",
      "input_30 (InputLayer)           [(None, 10)]         0                                            \n",
      "__________________________________________________________________________________________________\n",
      "critic (Model)                  multiple             1143201     generator[1][0]                  \n",
      "                                                                 input_30[0][0]                   \n",
      "__________________________________________________________________________________________________\n",
      "classifier (Model)              (None, 10)           1090856     generator[1][0]                  \n",
      "==================================================================================================\n",
      "Total params: 6,885,578\n",
      "Trainable params: 4,651,137\n",
      "Non-trainable params: 2,234,441\n",
      "__________________________________________________________________________________________________\n",
      "1143201 4651521\n",
      "Model: \"critic_model\"\n",
      "__________________________________________________________________________________________________\n",
      "Layer (type)                    Output Shape         Param #     Connected to                     \n",
      "==================================================================================================\n",
      "input_31 (InputLayer)           [(None, 28, 28, 1)]  0                                            \n",
      "__________________________________________________________________________________________________\n",
      "input_32 (InputLayer)           [(None, 100)]        0                                            \n",
      "__________________________________________________________________________________________________\n",
      "tf_op_layer_Reshape_9 (TensorFl [(None, 784)]        0           input_31[0][0]                   \n",
      "__________________________________________________________________________________________________\n",
      "tf_op_layer_concat_17 (TensorFl [(None, 884)]        0           input_32[0][0]                   \n",
      "                                                                 tf_op_layer_Reshape_9[0][0]      \n",
      "__________________________________________________________________________________________________\n",
      "generator (Model)               (None, 28, 28, 1)    4651521     tf_op_layer_concat_17[0][0]      \n",
      "__________________________________________________________________________________________________\n",
      "input_33 (InputLayer)           [(None, 10)]         0                                            \n",
      "__________________________________________________________________________________________________\n",
      "random_weighted_average_2 (Rand (128, 28, 28, 1)     0           input_31[0][0]                   \n",
      "                                                                 generator[2][0]                  \n",
      "__________________________________________________________________________________________________\n",
      "critic (Model)                  multiple             1143201     generator[2][0]                  \n",
      "                                                                 input_33[0][0]                   \n",
      "                                                                 input_31[0][0]                   \n",
      "                                                                 input_33[0][0]                   \n",
      "                                                                 random_weighted_average_2[0][0]  \n",
      "                                                                 input_33[0][0]                   \n",
      "==================================================================================================\n",
      "Total params: 5,794,722\n",
      "Trainable params: 1,143,201\n",
      "Non-trainable params: 4,651,521\n",
      "__________________________________________________________________________________________________\n"
     ]
    }
   ],
   "source": [
    "\n",
    "model = gwin.generator_model\n",
    "#model.layers[4].trainable = True\n",
    "#model.layers[6].trainable = False\n",
    "gwin.generator.trainable = True\n",
    "gwin.classifier.trainable = False\n",
    "gwin.critic.trainable = False\n",
    "trainable_count = np.sum([K.count_params(w) for w in model.trainable_weights])\n",
    "not_trainable_count = np.sum([K.count_params(w) for w in model.non_trainable_weights])\n",
    "print(trainable_count, not_trainable_count)\n",
    "model.summary()\n",
    "\n",
    "model = gwin.critic_model\n",
    "#model.layers[4].trainable = False\n",
    "#model.layers[7].trainable = True\n",
    "gwin.critic.trainable = True\n",
    "gwin.generator.trainable = False\n",
    "gwin.classifier.trainable = False\n",
    "trainable_count = np.sum([K.count_params(w) for w in model.trainable_weights])\n",
    "not_trainable_count = np.sum([K.count_params(w) for w in model.non_trainable_weights])\n",
    "print(trainable_count, not_trainable_count)\n",
    "model.summary()"
   ]
  },
  {
   "cell_type": "markdown",
   "metadata": {},
   "source": [
    "## Load dataset"
   ]
  },
  {
   "cell_type": "code",
   "execution_count": 12,
   "metadata": {},
   "outputs": [],
   "source": [
    "train_set, test_set = mnist.load_data()\n",
    "train_X, train_y = train_set\n",
    "test_X, test_y = test_set\n",
    "test_y_label = tf.keras.utils.to_categorical(test_y)\n",
    "train_y_label = tf.keras.utils.to_categorical(train_y)"
   ]
  },
  {
   "cell_type": "markdown",
   "metadata": {},
   "source": [
    "## Scale to (-1, 1)"
   ]
  },
  {
   "cell_type": "code",
   "execution_count": 13,
   "metadata": {},
   "outputs": [],
   "source": [
    "# scaled data\n",
    "# float32, normalize\n",
    "# You can try normalize and minmax-scaling. Normalize(0, 1) and min-max(0, 1)\n",
    "from sklearn.preprocessing import MinMaxScaler, StandardScaler\n",
    "scaler = MinMaxScaler((-1, 1))\n",
    "scaler2 = MinMaxScaler((-1, 1))\n",
    "train_X = train_X.astype(np.float32)\n",
    "train_X = np.reshape(train_X, (len(train_X), -1))\n",
    "train_X = scaler.fit_transform(train_X)\n",
    "test_X = test_X.astype(np.float32)\n",
    "test_X = np.reshape(test_X, (len(test_X), -1))\n",
    "test_X = scaler2.fit_transform(test_X)\n",
    "train_X = np.reshape(train_X, (len(train_X), 28, 28))\n",
    "test_X = np.reshape(test_X, (len(test_X), 28, 28))\n",
    "\n",
    "scaled_train_set = (train_X, train_y)\n",
    "scaled_test_set = (test_X, test_y)"
   ]
  },
  {
   "cell_type": "markdown",
   "metadata": {},
   "source": [
    "## Train classifier"
   ]
  },
  {
   "cell_type": "code",
   "execution_count": 94,
   "metadata": {},
   "outputs": [
    {
     "name": "stdout",
     "output_type": "stream",
     "text": [
      "Epoch 0 Accuracy 0.726656894058561 Loss 22.80905271745694\n",
      "Epoch 1 Accuracy 0.947228144989339 Loss 19.79784492948162\n",
      "Epoch 2 Accuracy 0.9635916400565776 Loss 17.276507953082575\n",
      "Epoch 3 Accuracy 0.9718705579670254 Loss 14.81550467192237\n",
      "Epoch 4 Accuracy 0.9754741914999256 Loss 12.515697383677272\n",
      "Epoch 5 Accuracy 0.9769234185788169 Loss 10.45877138841381\n",
      "Epoch 6 Accuracy 0.978267146453166 Loss 8.708938282435891\n",
      "Epoch 7 Accuracy 0.9797830046621213 Loss 7.268296133988956\n",
      "Epoch 8 Accuracy 0.9802993959201171 Loss 6.119022515791057\n",
      "Epoch 9 Accuracy 0.9808713130351069 Loss 5.219498112765965\n",
      "Epoch 10 Accuracy 0.9812877575980067 Loss 4.519127425862782\n",
      "Epoch 11 Accuracy 0.98252043350419 Loss 3.972051710462265\n",
      "Epoch 12 Accuracy 0.9822094882729211 Loss 3.539312298109791\n",
      "Epoch 13 Accuracy 0.982464907647196 Loss 3.186181178225129\n",
      "Epoch 14 Accuracy 0.9829868514146378 Loss 2.8921985971902227\n",
      "Epoch 15 Accuracy 0.9827536424594139 Loss 2.64668165442786\n",
      "Epoch 16 Accuracy 0.9838252931769723 Loss 2.4334899850491523\n",
      "Epoch 17 Accuracy 0.9827147743849358 Loss 2.2554502080498473\n",
      "Epoch 18 Accuracy 0.9834588219616205 Loss 2.0956004451332824\n",
      "Epoch 19 Accuracy 0.9829479833401596 Loss 1.9559320892606462\n",
      "Epoch 20 Accuracy 0.9827036691118659 Loss 1.8279530160716857\n",
      "Epoch 21 Accuracy 0.9839363450180493 Loss 1.7074979477599739\n",
      "Epoch 22 Accuracy 0.9839530028005653 Loss 1.6037695781508488\n",
      "Epoch 23 Accuracy 0.9840529494956612 Loss 1.5065708178192823\n",
      "Epoch 24 Accuracy 0.9836642679883473 Loss 1.42056673396625\n",
      "Epoch 25 Accuracy 0.9833699804125056 Loss 1.3440133930523512\n",
      "Epoch 26 Accuracy 0.9841362384082412 Loss 1.271264768866842\n",
      "Epoch 27 Accuracy 0.982620380199286 Loss 1.2111010068515216\n",
      "Epoch 28 Accuracy 0.9835643212932513 Loss 1.1503436758574137\n",
      "Epoch 29 Accuracy 0.9843527895809491 Loss 1.0954285056860462\n"
     ]
    }
   ],
   "source": [
    "gwin.classifier.trainable = True\n",
    "gwin.train_classifier(30, 128, scaled_train_set) # paper has 30, 128\n",
    "# save model if possible here also! \n",
    "# shuffle the data when training!"
   ]
  },
  {
   "cell_type": "code",
   "execution_count": 97,
   "metadata": {},
   "outputs": [],
   "source": [
    "# Save classifier if needed\n",
    "#gwin.classifier_model.save('classifier_model4')"
   ]
  },
  {
   "cell_type": "markdown",
   "metadata": {},
   "source": [
    "## Confirm classifier results"
   ]
  },
  {
   "cell_type": "code",
   "execution_count": 22,
   "metadata": {},
   "outputs": [
    {
     "name": "stdout",
     "output_type": "stream",
     "text": [
      "938/938 [==============================] - 3s 3ms/step - loss: 1.0108 - accuracy: 0.9828\n"
     ]
    }
   ],
   "source": [
    "results = gwin.classifier_model.evaluate(train_X, train_y_label, batch_size=64)\n"
   ]
  },
  {
   "cell_type": "code",
   "execution_count": 122,
   "metadata": {},
   "outputs": [
    {
     "name": "stdout",
     "output_type": "stream",
     "text": [
      "157/157 [==============================] - 1s 5ms/step - loss: 0.0628 - accuracy: 0.9822\n"
     ]
    }
   ],
   "source": [
    "results = gwin.classifier_model.evaluate(test_X, test_y_label, batch_size=64)\n"
   ]
  },
  {
   "cell_type": "code",
   "execution_count": 15,
   "metadata": {},
   "outputs": [],
   "source": [
    "train_set, heldout_set = tf.keras.datasets.mnist.load_data()\n",
    "train_seq = MNISTSequence(data=train_set, batch_size=128)\n",
    "scaled_train_seq = MNISTSequence(data=scaled_train_set, batch_size=128)\n",
    "heldout_seq = MNISTSequence(data=heldout_set, batch_size=128)\n",
    "scaled_test_seq = MNISTSequence(data=scaled_test_set, batch_size=128)\n"
   ]
  },
  {
   "cell_type": "markdown",
   "metadata": {},
   "source": [
    "## Define methods to quantify uncertainty"
   ]
  },
  {
   "cell_type": "code",
   "execution_count": 16,
   "metadata": {},
   "outputs": [],
   "source": [
    "monte_carlo_count = 10 # how many monte carlo samples?\n",
    "def classify_samples(seq=None, samples=None):\n",
    "    if seq:\n",
    "        probs = tf.stack([gwin.classifier_model.predict(seq, verbose=1) for _ in range(monte_carlo_count)])\n",
    "    else:\n",
    "        samples_reshape = np.reshape(samples, (len(samples), 28, 28, 1))\n",
    "        probs = [gwin.classifier_model.predict(samples_reshape, verbose=1) for _ in range(monte_carlo_count)]\n",
    "    # probs dimensions is monte_carlo_count x class x sample\n",
    "    mean_probs = tf.reduce_mean(probs, axis=0) # average monte carlo samples to class probs x sample\n",
    "    prediction_probs = tf.argmax(mean_probs, axis=1) # take the arg_max of the mean class probs as prediction\n",
    "    # we take the median as stated in paper for the certainty                      \n",
    "    certainty_probs = tfp.stats.percentile(probs, 50.0, axis=0, interpolation='midpoint')\n",
    "    certainty_prediction_probs = [j[prediction_probs[i]] for i, j in enumerate(certainty_probs)] # the median certainty of the argmax prediction class\n",
    "    return mean_probs, prediction_probs, certainty_prediction_probs\n",
    "    "
   ]
  },
  {
   "cell_type": "code",
   "execution_count": 32,
   "metadata": {},
   "outputs": [],
   "source": [
    "# rewrite to take indices instead\n",
    "def get_certain_uncertain_data(rejection_threshold, certainty_prediction_probs):\n",
    "    certainty_prediction_probs = np.array(certainty_prediction_probs)\n",
    "    rejection_indices = np.where(certainty_prediction_probs < rejection_threshold)[0]\n",
    "    confident_indices = np.where(certainty_prediction_probs >= rejection_threshold)[0]\n",
    "    return rejection_indices, confident_indices \n"
   ]
  },
  {
   "cell_type": "code",
   "execution_count": 21,
   "metadata": {},
   "outputs": [
    {
     "name": "stdout",
     "output_type": "stream",
     "text": [
      "1875/1875 [==============================] - 6s 3ms/step\n",
      "1875/1875 [==============================] - 6s 3ms/step\n",
      "1875/1875 [==============================] - 6s 3ms/step\n",
      "1875/1875 [==============================] - 6s 3ms/step\n",
      "1875/1875 [==============================] - 6s 3ms/step\n",
      "1875/1875 [==============================] - 6s 3ms/step\n",
      "1875/1875 [==============================] - 6s 3ms/step\n",
      "1875/1875 [==============================] - 6s 3ms/step\n",
      "1875/1875 [==============================] - 6s 3ms/step\n",
      "1875/1875 [==============================] - 6s 3ms/step\n"
     ]
    }
   ],
   "source": [
    "mean_probs, prediction_probs, certainty_prediction_probs = classify_samples(scaled_train_set, scaled_train_seq)\n"
   ]
  },
  {
   "cell_type": "code",
   "execution_count": 30,
   "metadata": {},
   "outputs": [
    {
     "data": {
      "text/plain": [
       "array([0.9999841 , 0.99999964, 0.99999857, ..., 0.9999999 , 0.99998635,\n",
       "       0.99996203], dtype=float32)"
      ]
     },
     "execution_count": 30,
     "metadata": {},
     "output_type": "execute_result"
    }
   ],
   "source": [
    "np.array(certainty_prediction_probs)"
   ]
  },
  {
   "cell_type": "code",
   "execution_count": 34,
   "metadata": {},
   "outputs": [],
   "source": [
    "rejection_indices, confident_indices = get_certain_uncertain_data(0.99, certainty_prediction_probs)\n",
    "confident_train_data = (scaled_train_set[0][confident_indices], scaled_train_set[1][confident_indices])\n",
    "rejection_train_data = (scaled_train_set[0][rejection_indices], scaled_train_set[1][rejection_indices])\n"
   ]
  },
  {
   "cell_type": "code",
   "execution_count": 35,
   "metadata": {},
   "outputs": [
    {
     "data": {
      "text/plain": [
       "55702"
      ]
     },
     "execution_count": 35,
     "metadata": {},
     "output_type": "execute_result"
    }
   ],
   "source": [
    "len(confident_train_data[0])"
   ]
  },
  {
   "cell_type": "code",
   "execution_count": 36,
   "metadata": {},
   "outputs": [
    {
     "data": {
      "text/plain": [
       "4298"
      ]
     },
     "execution_count": 36,
     "metadata": {},
     "output_type": "execute_result"
    }
   ],
   "source": [
    "len(rejection_train_data[0])"
   ]
  },
  {
   "cell_type": "code",
   "execution_count": 34,
   "metadata": {},
   "outputs": [
    {
     "data": {
      "text/plain": [
       "(60000, 28, 28)"
      ]
     },
     "execution_count": 34,
     "metadata": {},
     "output_type": "execute_result"
    }
   ],
   "source": [
    "np.shape(train_set[0])"
   ]
  },
  {
   "cell_type": "code",
   "execution_count": 37,
   "metadata": {},
   "outputs": [
    {
     "name": "stdout",
     "output_type": "stream",
     "text": [
      "Error\n",
      "Error\n",
      "0 [D loss: -12.798713] [G loss: 63.801403  3.364523]\n",
      "WARNING:tensorflow:From /home/kchow/anaconda3/lib/python3.7/site-packages/tensorflow/python/ops/resource_variable_ops.py:1817: calling BaseResourceVariable.__init__ (from tensorflow.python.ops.resource_variable_ops) with constraint is deprecated and will be removed in a future version.\n",
      "Instructions for updating:\n",
      "If using Keras pass *_constraint arguments to layers.\n",
      "INFO:tensorflow:Assets written to: critic_model_2_0/assets\n",
      "INFO:tensorflow:Assets written to: generator_model_2_0/assets\n",
      "1 [D loss: -36.331383] [G loss: 67.557320  12.783488]\n",
      "2 [D loss: -54.455017] [G loss: 72.766434  17.413059]\n",
      "3 [D loss: -66.120636] [G loss: 72.128998  15.613409]\n",
      "4 [D loss: -75.901306] [G loss: 68.912827  10.104902]\n",
      "5 [D loss: -84.325630] [G loss: 60.550648  5.779445]\n",
      "6 [D loss: -90.859406] [G loss: 54.439445  1.223734]\n",
      "7 [D loss: -97.097092] [G loss: 56.857170  0.601704]\n",
      "8 [D loss: -102.238571] [G loss: 53.323627 -0.261549]\n",
      "9 [D loss: -106.370773] [G loss: 54.855171 -0.373631]\n",
      "10 [D loss: -109.988403] [G loss: 58.849911  4.710323]\n"
     ]
    }
   ],
   "source": [
    "# takes about 16666 per hour\n",
    "gwin.train(11, 128, scaled_train_set[:2], confident_train_data[:2])\n",
    "# move to 200000, 128\n"
   ]
  },
  {
   "cell_type": "code",
   "execution_count": 202,
   "metadata": {},
   "outputs": [],
   "source": [
    "# for loading models\n",
    "gwin.generator_model = tf.keras.models.load_model('generator_model_2_60000', custom_objects = {'wasserstein_loss': gwin.wasserstein_loss, 'transformation_penalty_loss': gwin.transformation_penalty_loss})"
   ]
  },
  {
   "cell_type": "code",
   "execution_count": 28,
   "metadata": {},
   "outputs": [],
   "source": [
    "gwin.critic_model = tf.keras.models.load_model('critic_model_200000_1', custom_objects = {'wasserstein_loss': gwin.wasserstein_loss, 'gradient_penalty': gwin.partial_gp_loss})"
   ]
  },
  {
   "cell_type": "code",
   "execution_count": 39,
   "metadata": {},
   "outputs": [
    {
     "name": "stdout",
     "output_type": "stream",
     "text": [
      "INFO:tensorflow:Assets written to: critic_model_2/assets\n",
      "INFO:tensorflow:Assets written to: generator_model_2/assets\n"
     ]
    }
   ],
   "source": [
    "# saving models\n",
    "gwin.critic_model.save('critic_model_2')\n",
    "gwin.generator_model.save('generator_model_2')\n"
   ]
  },
  {
   "cell_type": "code",
   "execution_count": 177,
   "metadata": {},
   "outputs": [
    {
     "name": "stdout",
     "output_type": "stream",
     "text": [
      "313/313 [==============================] - 1s 3ms/step\n",
      "313/313 [==============================] - 1s 4ms/step\n",
      "313/313 [==============================] - 1s 4ms/step\n",
      "313/313 [==============================] - 1s 3ms/step\n",
      "313/313 [==============================] - 1s 3ms/step\n",
      "313/313 [==============================] - 1s 3ms/step\n",
      "313/313 [==============================] - 1s 3ms/step\n",
      "313/313 [==============================] - 1s 3ms/step\n",
      "313/313 [==============================] - 1s 3ms/step\n",
      "313/313 [==============================] - 1s 3ms/step\n"
     ]
    }
   ],
   "source": [
    "test_mean_probs, test_prediction_probs, test_certainty_prediction_probs = classify_samples(scaled_test_set, scaled_test_seq)\n",
    "rejection_test_indices, confident_test_indices = get_certain_uncertain_data(0.5, test_certainty_prediction_probs)\n",
    "confident_test_data_5 = (scaled_test_set[0][confident_test_indices], scaled_test_set[1][confident_test_indices])\n",
    "rejection_test_data_5 = (scaled_test_set[0][rejection_test_indices], scaled_test_set[1][rejection_test_indices])\n"
   ]
  },
  {
   "cell_type": "code",
   "execution_count": 178,
   "metadata": {},
   "outputs": [
    {
     "data": {
      "text/plain": [
       "47"
      ]
     },
     "execution_count": 178,
     "metadata": {},
     "output_type": "execute_result"
    }
   ],
   "source": [
    "len(rejection_test_data[0])"
   ]
  },
  {
   "cell_type": "code",
   "execution_count": 203,
   "metadata": {},
   "outputs": [],
   "source": [
    "# run this if you are loading pre-trained model\n",
    "temp_generator = gwin.generator_model.layers[4]\n",
    "gwin.generator.trainable = False"
   ]
  },
  {
   "cell_type": "markdown",
   "metadata": {},
   "source": [
    "## Rejected data"
   ]
  },
  {
   "cell_type": "code",
   "execution_count": 242,
   "metadata": {},
   "outputs": [
    {
     "name": "stdout",
     "output_type": "stream",
     "text": [
      "2/2 [==============================] - 0s 2ms/step\n",
      "2/2 [==============================] - 0s 2ms/step\n",
      "2/2 [==============================] - 0s 4ms/step\n",
      "2/2 [==============================] - 0s 2ms/step\n",
      "2/2 [==============================] - 0s 2ms/step\n",
      "2/2 [==============================] - 0s 1ms/step\n",
      "2/2 [==============================] - 0s 2ms/step\n",
      "2/2 [==============================] - 0s 3ms/step\n",
      "2/2 [==============================] - 0s 2ms/step\n",
      "2/2 [==============================] - 0s 2ms/step\n",
      "2/2 [==============================] - 0s 2ms/step\n",
      "2/2 [==============================] - 0s 2ms/step\n",
      "2/2 [==============================] - 0s 3ms/step\n",
      "2/2 [==============================] - 0s 2ms/step\n",
      "2/2 [==============================] - 0s 2ms/step\n",
      "2/2 [==============================] - 0s 2ms/step\n",
      "2/2 [==============================] - 0s 2ms/step\n",
      "2/2 [==============================] - 0s 2ms/step\n",
      "2/2 [==============================] - 0s 2ms/step\n",
      "2/2 [==============================] - 0s 2ms/step\n",
      "Old Accuracy 0.5319149\n",
      "New Accuracy 0.5319149\n"
     ]
    }
   ],
   "source": [
    "num_rejections = len(rejection_test_data[0])\n",
    "img = rejection_test_data[0][:num_rejections]\n",
    "\n",
    "noise = np.random.normal(0, 1, (num_rejections, 100))\n",
    "og_img = K.reshape(img, shape=(-1, 784))\n",
    "concat = K.concatenate([noise, og_img], axis=1)\n",
    "\n",
    "gen_imgs = temp_generator.predict(concat)\n",
    "#gen_imgs = gwin.generator.predict(concat)  \n",
    "gen_imgs = np.reshape(gen_imgs, (num_rejections, 28, 28))\n",
    "true_probs, true_prediction, true_certainty = classify_samples(samples=img)\n",
    "probs, prediction, certainty = classify_samples(samples=gen_imgs)\n",
    "# re-predict each time!\n",
    "m = tf.keras.metrics.CategoricalAccuracy()\n",
    "m.update_state(true_probs, tf.keras.utils.to_categorical(rejection_test_data[1]))\n",
    "print(\"Old Accuracy\", m.result().numpy())\n",
    "\n",
    "m2 = tf.keras.metrics.CategoricalAccuracy()\n",
    "m2.update_state(probs, tf.keras.utils.to_categorical(rejection_test_data[1]))\n",
    "print(\"New Accuracy\", m2.result().numpy())\n",
    "\n",
    "\n"
   ]
  },
  {
   "cell_type": "markdown",
   "metadata": {},
   "source": [
    "## Plotting a few side by side samples"
   ]
  },
  {
   "cell_type": "code",
   "execution_count": 243,
   "metadata": {},
   "outputs": [
    {
     "data": {
      "image/png": "[encoded data removed]",
      "text/plain": [
       "<Figure size 432x288 with 2 Axes>"
      ]
     },
     "metadata": {
      "needs_background": "light"
     },
     "output_type": "display_data"
    },
    {
     "data": {
      "image/png": "[encoded data removed]",
      "text/plain": [
       "<Figure size 432x288 with 2 Axes>"
      ]
     },
     "metadata": {
      "needs_background": "light"
     },
     "output_type": "display_data"
    },
    {
     "data": {
      "image/png": "[encoded data removed]",
      "text/plain": [
       "<Figure size 432x288 with 2 Axes>"
      ]
     },
     "metadata": {
      "needs_background": "light"
     },
     "output_type": "display_data"
    },
    {
     "data": {
      "image/png": "[encoded data removed]",
      "text/plain": [
       "<Figure size 432x288 with 2 Axes>"
      ]
     },
     "metadata": {
      "needs_background": "light"
     },
     "output_type": "display_data"
    },
    {
     "data": {
      "image/png": "[encoded data removed]",
      "text/plain": [
       "<Figure size 432x288 with 2 Axes>"
      ]
     },
     "metadata": {
      "needs_background": "light"
     },
     "output_type": "display_data"
    },
    {
     "data": {
      "image/png": "[encoded data removed]",
      "text/plain": [
       "<Figure size 432x288 with 2 Axes>"
      ]
     },
     "metadata": {
      "needs_background": "light"
     },
     "output_type": "display_data"
    },
    {
     "data": {
      "image/png": "[encoded data removed]",
      "text/plain": [
       "<Figure size 432x288 with 2 Axes>"
      ]
     },
     "metadata": {
      "needs_background": "light"
     },
     "output_type": "display_data"
    },
    {
     "data": {
      "image/png": "[encoded data removed]",
      "text/plain": [
       "<Figure size 432x288 with 2 Axes>"
      ]
     },
     "metadata": {
      "needs_background": "light"
     },
     "output_type": "display_data"
    },
    {
     "data": {
      "image/png": "[encoded data removed]",
      "text/plain": [
       "<Figure size 432x288 with 2 Axes>"
      ]
     },
     "metadata": {
      "needs_background": "light"
     },
     "output_type": "display_data"
    },
    {
     "data": {
      "image/png": "[encoded data removed]",
      "text/plain": [
       "<Figure size 432x288 with 2 Axes>"
      ]
     },
     "metadata": {
      "needs_background": "light"
     },
     "output_type": "display_data"
    }
   ],
   "source": [
    "%matplotlib inline\n",
    "\n",
    "for index in range(10):#num_rejections):\n",
    "    plt.tight_layout()\n",
    "    plt.figure(index)\n",
    "    plt.suptitle(\"Ground truth: \" + str(rejection_test_data[1][index]))    \n",
    "    \n",
    "    plt.subplot(\"131\")\n",
    "    plt.title(\" Certainty \" + str(true_certainty[index].numpy())[:4] +  \" Prediction \" + str(true_prediction[index].numpy()))\n",
    "    plt.imshow(img[index])\n",
    "\n",
    "    plt.subplot(\"133\")\n",
    "    plt.title(\" Certainty \" + str(certainty[index].numpy())[:4] + \" Prediction \" + str(prediction[index].numpy()))\n",
    "    # classify sample, get class and certainty\n",
    "    plt.imshow(gen_imgs[index])\n",
    "    #plt.savefig(str(index) + \".png\")\n",
    "\n"
   ]
  },
  {
   "cell_type": "code",
   "execution_count": null,
   "metadata": {},
   "outputs": [],
   "source": []
  }
 ],
 "metadata": {
  "kernelspec": {
   "display_name": "Python 3",
   "language": "python",
   "name": "python3"
  },
  "language_info": {
   "codemirror_mode": {
    "name": "ipython",
    "version": 3
   },
   "file_extension": ".py",
   "mimetype": "text/x-python",
   "name": "python",
   "nbconvert_exporter": "python",
   "pygments_lexer": "ipython3",
   "version": "3.7.6"
  }
 },
 "nbformat": 4,
 "nbformat_minor": 4
}
